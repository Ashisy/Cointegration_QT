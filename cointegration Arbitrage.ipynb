{
 "cells": [
  {
   "cell_type": "markdown",
   "metadata": {},
   "source": [
    "# 四大行价差套利研究"
   ]
  },
  {
   "cell_type": "code",
   "execution_count": 1,
   "metadata": {},
   "outputs": [],
   "source": [
    "from jqdata import *\n",
    "\n",
    "\n",
    "# 主要选择工商银行和建设银行进行研究\n",
    "# 工商银行\n",
    "code = '601398.XSHG'\n",
    "start_date = datetime.date(2015, 1, 5)\n",
    "end_date = datetime.date(2019, 6, 10)\n",
    "price_df = get_price(code, start_date=start_date, end_date=end_date, frequency='daily', \n",
    "                      fields=[ 'open', 'high', 'low', 'close'], skip_paused=False, fq='pre', count=None)\n",
    "# code2 = '601288.XSHG' 建设银行\n",
    "code2 = '601939.XSHG'\n",
    "# code2 = '601988.XSHG'\n",
    "price_df2 = get_price(code2,start_date=start_date, end_date=end_date, frequency='daily', \n",
    "                      fields=[ 'open', 'high', 'low', 'close'], skip_paused=False, fq='pre', count=None)"
   ]
  },
  {
   "cell_type": "code",
   "execution_count": 4,
   "metadata": {
    "scrolled": true
   },
   "outputs": [
    {
     "data": {
      "text/html": [
       "<div>\n",
       "\n",
       "    .dataframe tbody tr th:only-of-type {\n",
       "        vertical-align: middle;\n",
       "    }\n",
       "\n",
       "    .dataframe tbody tr th {\n",
       "        vertical-align: top;\n",
       "    }\n",
       "\n",
       "    .dataframe thead th {\n",
       "        text-align: right;\n",
       "    }\n",
       "\n",
       "<table border=\"1\" class=\"dataframe\">\n",
       "  <thead>\n",
       "    <tr style=\"text-align: right;\">\n",
       "      <th></th>\n",
       "      <th>open_x</th>\n",
       "      <th>high_x</th>\n",
       "      <th>low_x</th>\n",
       "      <th>close_x</th>\n",
       "      <th>open_y</th>\n",
       "      <th>high_y</th>\n",
       "      <th>low_y</th>\n",
       "      <th>close_y</th>\n",
       "    </tr>\n",
       "  </thead>\n",
       "  <tbody>\n",
       "    <tr>\n",
       "      <th>2015-01-05</th>\n",
       "      <td>3.93</td>\n",
       "      <td>4.10</td>\n",
       "      <td>3.90</td>\n",
       "      <td>4.03</td>\n",
       "      <td>5.35</td>\n",
       "      <td>5.56</td>\n",
       "      <td>5.28</td>\n",
       "      <td>5.48</td>\n",
       "    </tr>\n",
       "    <tr>\n",
       "      <th>2015-01-06</th>\n",
       "      <td>3.98</td>\n",
       "      <td>4.27</td>\n",
       "      <td>3.94</td>\n",
       "      <td>4.06</td>\n",
       "      <td>5.38</td>\n",
       "      <td>5.72</td>\n",
       "      <td>5.35</td>\n",
       "      <td>5.40</td>\n",
       "    </tr>\n",
       "    <tr>\n",
       "      <th>2015-01-07</th>\n",
       "      <td>3.98</td>\n",
       "      <td>4.06</td>\n",
       "      <td>3.94</td>\n",
       "      <td>4.01</td>\n",
       "      <td>5.30</td>\n",
       "      <td>5.38</td>\n",
       "      <td>5.16</td>\n",
       "      <td>5.25</td>\n",
       "    </tr>\n",
       "    <tr>\n",
       "      <th>2015-01-08</th>\n",
       "      <td>4.02</td>\n",
       "      <td>4.04</td>\n",
       "      <td>3.82</td>\n",
       "      <td>3.85</td>\n",
       "      <td>5.27</td>\n",
       "      <td>5.31</td>\n",
       "      <td>4.99</td>\n",
       "      <td>5.03</td>\n",
       "    </tr>\n",
       "    <tr>\n",
       "      <th>2015-01-09</th>\n",
       "      <td>3.84</td>\n",
       "      <td>4.10</td>\n",
       "      <td>3.77</td>\n",
       "      <td>3.89</td>\n",
       "      <td>5.03</td>\n",
       "      <td>5.36</td>\n",
       "      <td>4.93</td>\n",
       "      <td>5.07</td>\n",
       "    </tr>\n",
       "  </tbody>\n",
       "</table>\n",
       "</div>"
      ],
      "text/plain": [
       "            open_x  high_x  low_x   ...     high_y  low_y  close_y\n",
       "2015-01-05    3.93    4.10   3.90   ...       5.56   5.28     5.48\n",
       "2015-01-06    3.98    4.27   3.94   ...       5.72   5.35     5.40\n",
       "2015-01-07    3.98    4.06   3.94   ...       5.38   5.16     5.25\n",
       "2015-01-08    4.02    4.04   3.82   ...       5.31   4.99     5.03\n",
       "2015-01-09    3.84    4.10   3.77   ...       5.36   4.93     5.07\n",
       "\n",
       "[5 rows x 8 columns]"
      ]
     },
     "execution_count": 4,
     "metadata": {},
     "output_type": "execute_result"
    }
   ],
   "source": [
    "df=price_df.merge(price_df2,left_index=True, right_index=True)\n",
    "df.head()"
   ]
  },
  {
   "cell_type": "code",
   "execution_count": 7,
   "metadata": {},
   "outputs": [],
   "source": [
    "# a=['601398.XSHG','601288.XSHG', '601939.XSHG']"
   ]
  },
  {
   "cell_type": "code",
   "execution_count": 8,
   "metadata": {},
   "outputs": [],
   "source": [
    "# from jqdata import *\n",
    "# def date_pe(code,count=100):\n",
    "#     b=get_trade_days(count=count)\n",
    "#     q=query(valuation.code,\n",
    "#             valuation.day,\n",
    "#             valuation.pe_ratio).filter(\n",
    "#         valuation.code==code)\n",
    "#     for i,x in enumerate(b):\n",
    "#         df=get_fundamentals(q,date=x)\n",
    "#         if i==0:\n",
    "#             df1=df\n",
    "#         else:\n",
    "#             df1=df1.append(df)\n",
    "#     df1.reset_index(drop=True,inplace=True)\n",
    "#     return df1\n",
    "# df1=date_pe(code='601398.XSHG',count=1000)\n",
    "# price_df=df1\n",
    "# price_df.rename(columns={'pe_ratio':'close'},inplace=True)\n",
    "# df2=date_pe(code='601288.XSHG',count=1000)\n",
    "# price_df2=df2\n",
    "# price_df2.rename(columns={'pe_ratio':'close'},inplace=True)\n",
    "# df3=date_pe(code='601939.XSHG',count=1000)"
   ]
  },
  {
   "cell_type": "code",
   "execution_count": 9,
   "metadata": {},
   "outputs": [],
   "source": [
    "# price_df2=df3\n",
    "# price_df2.rename(columns={'pe_ratio':'close'},inplace=True)"
   ]
  },
  {
   "cell_type": "code",
   "execution_count": 7,
   "metadata": {},
   "outputs": [
    {
     "data": {
      "image/png": "[encoded data removed]",
      "text/plain": [
       "<Figure size 720x432 with 1 Axes>"
      ]
     },
     "metadata": {
      "needs_background": "light"
     },
     "output_type": "display_data"
    }
   ],
   "source": [
    "import matplotlib.pyplot as plt\n",
    "plt.subplots(figsize=(10,6))\n",
    "plt.plot(price_df.index,price_df.close,label='PRICE1')\n",
    "plt.plot(price_df2.index,price_df2.close,label='PRICE2')\n",
    "plt.legend()  # 让图例生效\n",
    "plt.show()"
   ]
  },
  {
   "cell_type": "code",
   "execution_count": 8,
   "metadata": {},
   "outputs": [
    {
     "name": "stdout",
     "output_type": "stream",
     "text": [
      "(-2.6686371772249124, 0.21106078939744038, array([-3.9066283127209394, -3.3418038676377955, -3.0483866634425736]))\n",
      "========================================\n",
      "0.21106078939744038\n",
      "========================================\n",
      "回归系数:const   -0.379598\n",
      "close    1.307414\n",
      "dtype: float64\n",
      "========================================\n",
      "1.3074137576494014\n"
     ]
    }
   ],
   "source": [
    "import statsmodels.api as sm\n",
    "x = price_df.close\n",
    "y = price_df2.close\n",
    "#一元方程的非协整检验\n",
    "coint_result = sm.tsa.stattools.coint(x, y)\n",
    "# 【t-statistic,pvalue,（临界值分别为1%、5%和10%）】\n",
    "print(coint_result)\n",
    "print('='*40)\n",
    "pvalue = coint_result[1]\n",
    "print(pvalue)\n",
    "print('='*40)\n",
    "\n",
    "X = sm.add_constant(x) #增加常数项\n",
    "#进行线性回归拟合\n",
    "result = (sm.OLS(y,X)).fit()\n",
    "# 回归系数\n",
    "print('回归系数:{}'.format(result.params))\n",
    "print('='*40)\n",
    "\n",
    "coef = result.params[1]\n",
    "print(coef)"
   ]
  },
  {
   "cell_type": "code",
   "execution_count": 9,
   "metadata": {},
   "outputs": [
    {
     "data": {
      "text/html": [
       "<div>\n",
       "\n",
       "    .dataframe tbody tr th:only-of-type {\n",
       "        vertical-align: middle;\n",
       "    }\n",
       "\n",
       "    .dataframe tbody tr th {\n",
       "        vertical-align: top;\n",
       "    }\n",
       "\n",
       "    .dataframe thead th {\n",
       "        text-align: right;\n",
       "    }\n",
       "\n",
       "<table border=\"1\" class=\"dataframe\">\n",
       "  <thead>\n",
       "    <tr style=\"text-align: right;\">\n",
       "      <th></th>\n",
       "      <th>open_x</th>\n",
       "      <th>high_x</th>\n",
       "      <th>low_x</th>\n",
       "      <th>close_x</th>\n",
       "      <th>open_y</th>\n",
       "      <th>high_y</th>\n",
       "      <th>low_y</th>\n",
       "      <th>close_y</th>\n",
       "      <th>y</th>\n",
       "    </tr>\n",
       "  </thead>\n",
       "  <tbody>\n",
       "    <tr>\n",
       "      <th>2015-01-05</th>\n",
       "      <td>3.93</td>\n",
       "      <td>4.10</td>\n",
       "      <td>3.90</td>\n",
       "      <td>4.03</td>\n",
       "      <td>5.35</td>\n",
       "      <td>5.56</td>\n",
       "      <td>5.28</td>\n",
       "      <td>5.48</td>\n",
       "      <td>4.889280</td>\n",
       "    </tr>\n",
       "    <tr>\n",
       "      <th>2015-01-06</th>\n",
       "      <td>3.98</td>\n",
       "      <td>4.27</td>\n",
       "      <td>3.94</td>\n",
       "      <td>4.06</td>\n",
       "      <td>5.38</td>\n",
       "      <td>5.72</td>\n",
       "      <td>5.35</td>\n",
       "      <td>5.40</td>\n",
       "      <td>4.928503</td>\n",
       "    </tr>\n",
       "    <tr>\n",
       "      <th>2015-01-07</th>\n",
       "      <td>3.98</td>\n",
       "      <td>4.06</td>\n",
       "      <td>3.94</td>\n",
       "      <td>4.01</td>\n",
       "      <td>5.30</td>\n",
       "      <td>5.38</td>\n",
       "      <td>5.16</td>\n",
       "      <td>5.25</td>\n",
       "      <td>4.863132</td>\n",
       "    </tr>\n",
       "    <tr>\n",
       "      <th>2015-01-08</th>\n",
       "      <td>4.02</td>\n",
       "      <td>4.04</td>\n",
       "      <td>3.82</td>\n",
       "      <td>3.85</td>\n",
       "      <td>5.27</td>\n",
       "      <td>5.31</td>\n",
       "      <td>4.99</td>\n",
       "      <td>5.03</td>\n",
       "      <td>4.653946</td>\n",
       "    </tr>\n",
       "    <tr>\n",
       "      <th>2015-01-09</th>\n",
       "      <td>3.84</td>\n",
       "      <td>4.10</td>\n",
       "      <td>3.77</td>\n",
       "      <td>3.89</td>\n",
       "      <td>5.03</td>\n",
       "      <td>5.36</td>\n",
       "      <td>4.93</td>\n",
       "      <td>5.07</td>\n",
       "      <td>4.706242</td>\n",
       "    </tr>\n",
       "  </tbody>\n",
       "</table>\n",
       "</div>"
      ],
      "text/plain": [
       "            open_x  high_x  low_x    ...     low_y  close_y         y\n",
       "2015-01-05    3.93    4.10   3.90    ...      5.28     5.48  4.889280\n",
       "2015-01-06    3.98    4.27   3.94    ...      5.35     5.40  4.928503\n",
       "2015-01-07    3.98    4.06   3.94    ...      5.16     5.25  4.863132\n",
       "2015-01-08    4.02    4.04   3.82    ...      4.99     5.03  4.653946\n",
       "2015-01-09    3.84    4.10   3.77    ...      4.93     5.07  4.706242\n",
       "\n",
       "[5 rows x 9 columns]"
      ]
     },
     "execution_count": 9,
     "metadata": {},
     "output_type": "execute_result"
    }
   ],
   "source": [
    "df['y']= -0.379598+1.307414*df.close_x\n",
    "df.head()"
   ]
  },
  {
   "cell_type": "code",
   "execution_count": 11,
   "metadata": {},
   "outputs": [
    {
     "data": {
      "text/html": [
       "<div>\n",
       "\n",
       "    .dataframe tbody tr th:only-of-type {\n",
       "        vertical-align: middle;\n",
       "    }\n",
       "\n",
       "    .dataframe tbody tr th {\n",
       "        vertical-align: top;\n",
       "    }\n",
       "\n",
       "    .dataframe thead th {\n",
       "        text-align: right;\n",
       "    }\n",
       "\n",
       "<table border=\"1\" class=\"dataframe\">\n",
       "  <thead>\n",
       "    <tr style=\"text-align: right;\">\n",
       "      <th></th>\n",
       "      <th>open_x</th>\n",
       "      <th>high_x</th>\n",
       "      <th>low_x</th>\n",
       "      <th>close_x</th>\n",
       "      <th>open_y</th>\n",
       "      <th>high_y</th>\n",
       "      <th>low_y</th>\n",
       "      <th>close_y</th>\n",
       "      <th>y</th>\n",
       "      <th>y1</th>\n",
       "    </tr>\n",
       "  </thead>\n",
       "  <tbody>\n",
       "    <tr>\n",
       "      <th>2015-01-05</th>\n",
       "      <td>3.93</td>\n",
       "      <td>4.10</td>\n",
       "      <td>3.90</td>\n",
       "      <td>4.03</td>\n",
       "      <td>5.35</td>\n",
       "      <td>5.56</td>\n",
       "      <td>5.28</td>\n",
       "      <td>5.48</td>\n",
       "      <td>4.889280</td>\n",
       "      <td>4.889280</td>\n",
       "    </tr>\n",
       "    <tr>\n",
       "      <th>2015-01-06</th>\n",
       "      <td>3.98</td>\n",
       "      <td>4.27</td>\n",
       "      <td>3.94</td>\n",
       "      <td>4.06</td>\n",
       "      <td>5.38</td>\n",
       "      <td>5.72</td>\n",
       "      <td>5.35</td>\n",
       "      <td>5.40</td>\n",
       "      <td>4.928503</td>\n",
       "      <td>4.928502</td>\n",
       "    </tr>\n",
       "    <tr>\n",
       "      <th>2015-01-07</th>\n",
       "      <td>3.98</td>\n",
       "      <td>4.06</td>\n",
       "      <td>3.94</td>\n",
       "      <td>4.01</td>\n",
       "      <td>5.30</td>\n",
       "      <td>5.38</td>\n",
       "      <td>5.16</td>\n",
       "      <td>5.25</td>\n",
       "      <td>4.863132</td>\n",
       "      <td>4.863131</td>\n",
       "    </tr>\n",
       "    <tr>\n",
       "      <th>2015-01-08</th>\n",
       "      <td>4.02</td>\n",
       "      <td>4.04</td>\n",
       "      <td>3.82</td>\n",
       "      <td>3.85</td>\n",
       "      <td>5.27</td>\n",
       "      <td>5.31</td>\n",
       "      <td>4.99</td>\n",
       "      <td>5.03</td>\n",
       "      <td>4.653946</td>\n",
       "      <td>4.653945</td>\n",
       "    </tr>\n",
       "    <tr>\n",
       "      <th>2015-01-09</th>\n",
       "      <td>3.84</td>\n",
       "      <td>4.10</td>\n",
       "      <td>3.77</td>\n",
       "      <td>3.89</td>\n",
       "      <td>5.03</td>\n",
       "      <td>5.36</td>\n",
       "      <td>4.93</td>\n",
       "      <td>5.07</td>\n",
       "      <td>4.706242</td>\n",
       "      <td>4.706242</td>\n",
       "    </tr>\n",
       "  </tbody>\n",
       "</table>\n",
       "</div>"
      ],
      "text/plain": [
       "            open_x  high_x  low_x    ...     close_y         y        y1\n",
       "2015-01-05    3.93    4.10   3.90    ...        5.48  4.889280  4.889280\n",
       "2015-01-06    3.98    4.27   3.94    ...        5.40  4.928503  4.928502\n",
       "2015-01-07    3.98    4.06   3.94    ...        5.25  4.863132  4.863131\n",
       "2015-01-08    4.02    4.04   3.82    ...        5.03  4.653946  4.653945\n",
       "2015-01-09    3.84    4.10   3.77    ...        5.07  4.706242  4.706242\n",
       "\n",
       "[5 rows x 10 columns]"
      ]
     },
     "execution_count": 11,
     "metadata": {},
     "output_type": "execute_result"
    }
   ],
   "source": [
    "df['y1']=result.fittedvalues\n",
    "df.head()"
   ]
  },
  {
   "cell_type": "code",
   "execution_count": 42,
   "metadata": {},
   "outputs": [
    {
     "data": {
      "text/plain": [
       "array([4.889279554380734])"
      ]
     },
     "execution_count": 42,
     "metadata": {},
     "output_type": "execute_result"
    }
   ],
   "source": [
    "预测，注意加常数项1的元祖。\n",
    "result.predict((1,4.03))"
   ]
  },
  {
   "cell_type": "code",
   "execution_count": 12,
   "metadata": {},
   "outputs": [
    {
     "name": "stdout",
     "output_type": "stream",
     "text": [
      "                            OLS Regression Results                            \n",
      "==============================================================================\n",
      "Dep. Variable:                  close   R-squared:                       0.969\n",
      "Model:                            OLS   Adj. R-squared:                  0.969\n",
      "Method:                 Least Squares   F-statistic:                 3.358e+04\n",
      "Date:                Tue, 17 Mar 2020   Prob (F-statistic):               0.00\n",
      "Time:                        11:16:29   Log-Likelihood:                 246.52\n",
      "No. Observations:                1079   AIC:                            -489.0\n",
      "Df Residuals:                    1077   BIC:                            -479.1\n",
      "Df Model:                           1                                         \n",
      "Covariance Type:            nonrobust                                         \n",
      "==============================================================================\n",
      "                 coef    std err          t      P>|t|      [0.025      0.975]\n",
      "------------------------------------------------------------------------------\n",
      "const         -0.3796      0.033    -11.486      0.000      -0.444      -0.315\n",
      "close          1.3074      0.007    183.247      0.000       1.293       1.321\n",
      "==============================================================================\n",
      "Omnibus:                       61.675   Durbin-Watson:                   0.055\n",
      "Prob(Omnibus):                  0.000   Jarque-Bera (JB):               71.152\n",
      "Skew:                          -0.625   Prob(JB):                     3.54e-16\n",
      "Kurtosis:                       3.141   Cond. No.                         27.3\n",
      "==============================================================================\n",
      "\n",
      "Warnings:\n",
      "[1] Standard Errors assume that the covariance matrix of the errors is correctly specified.\n"
     ]
    }
   ],
   "source": [
    "#查看回归结果\n",
    "print(result.summary())"
   ]
  },
  {
   "cell_type": "code",
   "execution_count": 13,
   "metadata": {},
   "outputs": [
    {
     "data": {
      "text/plain": [
       "<matplotlib.legend.Legend at 0x7ff8843ae6d8>"
      ]
     },
     "execution_count": 13,
     "metadata": {},
     "output_type": "execute_result"
    },
    {
     "data": {
      "image/png": "[encoded data removed]",
      "text/plain": [
       "<Figure size 720x432 with 1 Axes>"
      ]
     },
     "metadata": {
      "needs_background": "light"
     },
     "output_type": "display_data"
    }
   ],
   "source": [
    "fig, ax = plt.subplots(figsize=(10,6))\n",
    "ax.plot(x, y, 'o', label=\"data\")\n",
    "ax.plot(x, result.fittedvalues, 'r', label=\"OLS\")\n",
    "# ax.plot(df.close_x, df.y, 'b', label=\"OLS\")\n",
    "ax.legend(loc='best')"
   ]
  },
  {
   "cell_type": "code",
   "execution_count": null,
   "metadata": {},
   "outputs": [],
   "source": [
    "# 进行正则化处理\n",
    "def zscore(series):\n",
    "    return (series - series.mean()) / np.std(series)"
   ]
  },
  {
   "cell_type": "code",
   "execution_count": 15,
   "metadata": {},
   "outputs": [
    {
     "data": {
      "image/png": "[encoded data removed]",
      "text/plain": [
       "<Figure size 432x288 with 1 Axes>"
      ]
     },
     "metadata": {
      "needs_background": "light"
     },
     "output_type": "display_data"
    }
   ],
   "source": [
    "plot(zscore(df.y-df.close_y))\n",
    "plt.axhline(zscore(df.y-df.close_y).mean(), color=\"black\")\n",
    "# plt.axhline(1.0, color=\"red\", linestyle=\"--\")\n",
    "# plt.axhline(-1.0, color=\"green\", linestyle=\"--\")\n",
    "plt.axhline(2.0, color=\"red\", linestyle=\"--\")\n",
    "plt.axhline(-2.0, color=\"green\", linestyle=\"--\")\n",
    "plt.legend([\"z-score\", \"mean\", \"+2\", \"-2\"])\n",
    "plt.show()"
   ]
  }
 ],
 "metadata": {
  "kernelspec": {
   "display_name": "Python 3",
   "language": "python",
   "name": "python3"
  },
  "language_info": {
   "codemirror_mode": {
    "name": "ipython",
    "version": 3
   },
   "file_extension": ".py",
   "mimetype": "text/x-python",
   "name": "python",
   "nbconvert_exporter": "python",
   "pygments_lexer": "ipython3",
   "version": "3.8.5"
  },
  "toc": {
   "base_numbering": 1,
   "nav_menu": {},
   "number_sections": false,
   "sideBar": true,
   "skip_h1_title": false,
   "title_cell": "MarkDown菜单",
   "title_sidebar": "Contents",
   "toc_cell": false,
   "toc_position": {},
   "toc_section_display": true,
   "toc_window_display": false
  }
 },
 "nbformat": 4,
 "nbformat_minor": 2
}
